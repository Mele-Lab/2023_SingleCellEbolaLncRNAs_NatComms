{
 "cells": [
  {
   "cell_type": "code",
   "execution_count": 1,
   "metadata": {},
   "outputs": [],
   "source": [
    "import os\n",
    "import collections, functools, operator \n"
   ]
  },
  {
   "cell_type": "code",
   "execution_count": 3,
   "metadata": {},
   "outputs": [],
   "source": [
    "directory = \"/home/luisas/Desktop/cluster/data/01_bulk_RNA-Seq_lncRNAs_annotation/02_RNA-Seq_ribodepl/03_hisat/\""
   ]
  },
  {
   "cell_type": "code",
   "execution_count": 10,
   "metadata": {},
   "outputs": [],
   "source": [
    "for filename in os.listdir(directory):\n",
    "    if filename.endswith(\"summary.txt\"): \n",
    "        print(filename)\n",
    "        continue\n",
    "    else:\n",
    "        continue"
   ]
  },
  {
   "cell_type": "code",
   "execution_count": 68,
   "metadata": {},
   "outputs": [],
   "source": [
    "f = open(os.path.join(directory,\"summary_reads.csv\"), \"w\")\n",
    "\n",
    "\n",
    "hm = {}\n",
    "hm_mapped = {}\n",
    "\n",
    "for subdir, dirs, files in os.walk(directory):\n",
    "    for file in files:\n",
    "        if file.endswith(\"summary.txt\"): \n",
    "            filepath = subdir + os.sep + file\n",
    "            # Using readlines() \n",
    "            file1 = open(filepath, 'r') \n",
    "            Lines = file1.readlines() \n",
    "            for line in Lines: \n",
    "                if \"reads\" in line: \n",
    "                    reads=line.split()[0]\n",
    "                if \"aligned concordantly exactly 1 time\" in line:\n",
    "                    pe = line.split()[0]\n",
    "            fileid = \"_\".join(file.split(\".hisat\")[0].split(\"_\")[0:4])\n",
    "            if fileid in hm: \n",
    "                hm[fileid] = int(hm[fileid])+int(reads)\n",
    "                hm_mapped[fileid] = int(hm_mapped[fileid])+int(pe)\n",
    "            else: \n",
    "                hm[fileid] = int(reads)\n",
    "                hm_mapped[fileid] = int(pe)\n",
    "                \n",
    "for key in hm: \n",
    "    f.write(key+\",\"+str(hm[key])+\",\"+str(hm_mapped[key])+\",\"+str(round((hm_mapped[key]*100/hm[key]),2))+\"%\\n\")\n",
    "f.close()"
   ]
  },
  {
   "cell_type": "code",
   "execution_count": null,
   "metadata": {},
   "outputs": [],
   "source": [
    "\n"
   ]
  }
 ],
 "metadata": {
  "kernelspec": {
   "display_name": "Python 3",
   "language": "python",
   "name": "python3"
  },
  "language_info": {
   "codemirror_mode": {
    "name": "ipython",
    "version": 3
   },
   "file_extension": ".py",
   "mimetype": "text/x-python",
   "name": "python",
   "nbconvert_exporter": "python",
   "pygments_lexer": "ipython3",
   "version": "3.6.9"
  }
 },
 "nbformat": 4,
 "nbformat_minor": 4
}
