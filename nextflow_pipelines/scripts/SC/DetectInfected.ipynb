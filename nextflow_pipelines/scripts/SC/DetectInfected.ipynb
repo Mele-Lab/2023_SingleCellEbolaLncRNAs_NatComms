{
 "cells": [
  {
   "cell_type": "code",
   "execution_count": 35,
   "metadata": {},
   "outputs": [],
   "source": [
    "import os\n",
    "adir = '../../../../../../data/02_scRNA-Seq_PBMCs/00_scRNA-Seq_exVivo_rhemac10/05_RObjectsOLD/03_prep/'\n",
    "project_name = 'immune.combined'\n",
    "gcs = False\n",
    "results_dir = '../../../results'\n",
    "abase = adir"
   ]
  },
  {
   "cell_type": "code",
   "execution_count": 36,
   "metadata": {},
   "outputs": [
    {
     "name": "stdout",
     "output_type": "stream",
     "text": [
      "The autoreload extension is already loaded. To reload it, use:\n",
      "  %reload_ext autoreload\n"
     ]
    },
    {
     "data": {
      "text/plain": [
       "'/usr/bin'"
      ]
     },
     "execution_count": 36,
     "metadata": {},
     "output_type": "execute_result"
    }
   ],
   "source": [
    "%matplotlib inline\n",
    "%load_ext autoreload\n",
    "%autoreload 2\n",
    "os.path.dirname(sys.executable)"
   ]
  },
  {
   "cell_type": "code",
   "execution_count": 37,
   "metadata": {},
   "outputs": [],
   "source": [
    "import numpy as np\n",
    "import pandas as pd\n",
    "import scanpy as sc\n",
    "import matplotlib.pyplot as plt\n",
    "import seaborn as sns\n",
    "import re\n",
    "import matplotlib.gridspec as gridspec\n",
    "\n",
    "## Functions for reading files straight from google cloud storage\n",
    "import sys\n",
    "sys.path.append('.')\n",
    "\n",
    "from ut import read_adata, save_adata\n",
    "\n",
    "from cnmf import get_highvar_genes_sparse, save_df_to_npz\n",
    "\n",
    "import palettable\n",
    "from IPython.display import display, Image\n",
    "\n",
    "from joblib import parallel_backend"
   ]
  },
  {
   "cell_type": "code",
   "execution_count": 38,
   "metadata": {},
   "outputs": [],
   "source": [
    "sc.settings.verbosity = 3  # verbosity: errors (0), warnings (1), info (2), hints (3)\n",
    "sc.set_figure_params(scanpy=True, dpi=80, vector_friendly=False, ipython_format='png')"
   ]
  },
  {
   "cell_type": "code",
   "execution_count": 41,
   "metadata": {},
   "outputs": [
    {
     "name": "stdout",
     "output_type": "stream",
     "text": [
      "WARNING: Your filename has more than two extensions: ['.combined', '.ready', '.h5ad'].\n",
      "Only considering the two last: ['.ready', '.h5ad'].\n",
      "WARNING: Your filename has more than two extensions: ['.combined', '.ready', '.h5ad'].\n",
      "Only considering the two last: ['.ready', '.h5ad'].\n"
     ]
    }
   ],
   "source": [
    "processed_file = os.path.join(adir, \"03_immune.combined.ready.h5ad\")\n",
    "adata_annot = read_adata(processed_file, gcs=gcs)"
   ]
  },
  {
   "cell_type": "code",
   "execution_count": 61,
   "metadata": {},
   "outputs": [
    {
     "data": {
      "text/plain": [
       "AnnData object with n_obs × n_vars = 48225 × 15358\n",
       "    obs: 'orig.ident', 'nCount_RNA', 'nFeature_RNA', 'ident', 'total_features_by_counts', 'log10_total_features_by_counts', 'total_counts', 'log10_total_counts', 'pct_counts_in_top_50_features', 'pct_counts_in_top_100_features', 'pct_counts_in_top_200_features', 'pct_counts_in_top_500_features', 'percent.mt', 'individual', 'cond', 'dpi', 'batch', 'analysis', 'sample', 'hpi', 'RNA_snn_res.0.5', 'seurat_clusters'\n",
       "    var: 'vst.mean', 'vst.variance', 'vst.variance.expected', 'vst.variance.standardized', 'vst.variable'\n",
       "    obsm: 'X_pca', 'X_umap'"
      ]
     },
     "execution_count": 61,
     "metadata": {},
     "output_type": "execute_result"
    }
   ],
   "source": []
  },
  {
   "cell_type": "code",
   "execution_count": 52,
   "metadata": {},
   "outputs": [
    {
     "name": "stdout",
     "output_type": "stream",
     "text": [
      "filtered out 12 genes that are detected in less than 10 cells\n"
     ]
    }
   ],
   "source": [
    "adata = sc.AnnData(adata_annot.X, obs=adata_annot.obs, var=adata_annot.var, uns=adata_annot.uns)\n",
    "sc.pp.filter_genes(adata, min_cells=10)\n",
    "adata = adata.copy()"
   ]
  },
  {
   "cell_type": "code",
   "execution_count": 63,
   "metadata": {},
   "outputs": [
    {
     "name": "stdout",
     "output_type": "stream",
     "text": [
      "../../../../../../data/02_scRNA-Seq_PBMCs/00_scRNA-Seq_exVivo_rhemac10/05_RObjectsOLD/03_prep/cNMF.03_immune.combined.h5ad\n",
      "../../../../../../data/02_scRNA-Seq_PBMCs/00_scRNA-Seq_exVivo_rhemac10/05_RObjectsOLD/03_prep/cNMF.03_immune.combined.npz\n",
      "../../../../../../data/02_scRNA-Seq_PBMCs/00_scRNA-Seq_exVivo_rhemac10/05_RObjectsOLD/03_prep/cNMF.03_immune.combined.hvgs.txt\n"
     ]
    }
   ],
   "source": [
    "cnmf_dir = adir\n",
    "\n",
    "if not os.path.exists(cnmf_dir):\n",
    "    os.mkdir(cnmf_dir)\n",
    "    \n",
    "name = 'cNMF.{project}'.format(project=\"03_immune.combined\")\n",
    "count_fn = os.path.join(cnmf_dir, name+ '.h5ad')\n",
    "count_fn_npz = os.path.join(cnmf_dir, name+ '.npz')\n",
    "\n",
    "hvg_fn = os.path.join(cnmf_dir, name+ '.hvgs.txt')\n",
    "print(count_fn)\n",
    "print(count_fn_npz)\n",
    "print(hvg_fn)"
   ]
  },
  {
   "cell_type": "code",
   "execution_count": 64,
   "metadata": {},
   "outputs": [
    {
     "name": "stdout",
     "output_type": "stream",
     "text": [
      "WARNING: Your filename has more than two extensions: ['.03_immune', '.combined', '.h5ad'].\n",
      "Only considering the two last: ['.combined', '.h5ad'].\n",
      "WARNING: Your filename has more than two extensions: ['.03_immune', '.combined', '.h5ad'].\n",
      "Only considering the two last: ['.combined', '.h5ad'].\n"
     ]
    }
   ],
   "source": [
    "sc.write(count_fn, adata)"
   ]
  },
  {
   "cell_type": "code",
   "execution_count": 65,
   "metadata": {},
   "outputs": [],
   "source": [
    "X = pd.DataFrame(adata.X.todense(), index=adata.obs.index, columns=adata.var.index)\n",
    "save_df_to_npz(X, count_fn_npz)"
   ]
  },
  {
   "cell_type": "markdown",
   "metadata": {},
   "source": [
    "# Picking high-variance genes excluding the cell cycle and freeze-thaw genes associated genes so they won't drive the usage inference but keeping them in the full data matrix so that their contribution will be estimated in the final set of GEPs¶\n",
    "This is running the cNMF hvg selection pipeline"
   ]
  },
  {
   "cell_type": "code",
   "execution_count": 66,
   "metadata": {},
   "outputs": [
    {
     "name": "stdout",
     "output_type": "stream",
     "text": [
      "normalizing by total count per cell\n",
      "    finished (0:00:01): normalized adata.X and added    'n_counts', counts per cell before normalization (adata.obs)\n"
     ]
    }
   ],
   "source": [
    "sc.pp.normalize_per_cell(adata, counts_per_cell_after=(10**6))"
   ]
  },
  {
   "cell_type": "code",
   "execution_count": 67,
   "metadata": {},
   "outputs": [],
   "source": [
    "gene_stats, _ = get_highvar_genes_sparse(adata.X, expected_fano_threshold=None,\n",
    "                       minimal_mean=0.01, numgenes=2000)"
   ]
  },
  {
   "cell_type": "code",
   "execution_count": 68,
   "metadata": {},
   "outputs": [],
   "source": [
    "hvgs = list(adata.var.index[gene_stats['high_var'].values])\n"
   ]
  },
  {
   "cell_type": "code",
   "execution_count": 69,
   "metadata": {},
   "outputs": [
    {
     "data": {
      "text/plain": [
       "25512"
      ]
     },
     "execution_count": 69,
     "metadata": {},
     "output_type": "execute_result"
    }
   ],
   "source": [
    "open(hvg_fn, 'w').write('\\n'.join(hvgs))\n"
   ]
  },
  {
   "cell_type": "code",
   "execution_count": 70,
   "metadata": {},
   "outputs": [],
   "source": [
    "numiter=20\n",
    "numworkers=50\n",
    "K = ' '.join([str(i) for i in range(10,25)])\n",
    "seed = 14"
   ]
  },
  {
   "cell_type": "code",
   "execution_count": 71,
   "metadata": {},
   "outputs": [
    {
     "name": "stdout",
     "output_type": "stream",
     "text": [
      "/opt/miniconda3/bin/activate cnmf_env && python ../../Code/cNMF/cnmf.py prepare --output-dir ../../../../../../data/02_scRNA-Seq_PBMCs/00_scRNA-Seq_exVivo_rhemac10/05_RObjectsOLD/03_prep/ --name cNMF.03_immune.combined -c ../../../../../../data/02_scRNA-Seq_PBMCs/00_scRNA-Seq_exVivo_rhemac10/05_RObjectsOLD/03_prep/cNMF.03_immune.combined.npz -k 10 11 12 13 14 15 16 17 18 19 20 21 22 23 24 --n-iter 20 --total-workers 50 --seed 14 --beta-loss frobenius --genes-file ../../../../../../data/02_scRNA-Seq_PBMCs/00_scRNA-Seq_exVivo_rhemac10/05_RObjectsOLD/03_prep/cNMF.03_immune.combined.hvgs.txt\n"
     ]
    }
   ],
   "source": [
    "prepare_cmd = '/opt/miniconda3/bin/activate cnmf_env && python ../../Code/cNMF/cnmf.py prepare --output-dir %s --name %s -c %s -k %s --n-iter %d --total-workers %d --seed %d --beta-loss frobenius --genes-file %s' % (cnmf_dir, name, count_fn_npz, K, numiter, numworkers, seed,  hvg_fn)\n",
    "print(prepare_cmd)\n",
    "#! {prepare_cmd}"
   ]
  },
  {
   "cell_type": "code",
   "execution_count": 72,
   "metadata": {},
   "outputs": [
    {
     "name": "stdout",
     "output_type": "stream",
     "text": [
      "K selection plot command: python ../../Code/cNMF/cnmf.py k_selection_plot --output-dir ../../../../../../data/02_scRNA-Seq_PBMCs/00_scRNA-Seq_exVivo_rhemac10/05_RObjectsOLD/03_prep/ --name cNMF.03_immune.combined\n",
      "python: can't open file '../../Code/cNMF/cnmf.py': [Errno 2] No such file or directory\r\n"
     ]
    }
   ],
   "source": [
    "kselect_plot_cmd = 'python ../../Code/cNMF/cnmf.py k_selection_plot --output-dir %s --name %s' % (cnmf_dir, name)\n",
    "print('K selection plot command: %s' % kselect_plot_cmd)\n",
    "#!{kselect_plot_cmd}"
   ]
  }
 ],
 "metadata": {
  "kernelspec": {
   "display_name": "Python 3",
   "language": "python",
   "name": "python3"
  },
  "language_info": {
   "codemirror_mode": {
    "name": "ipython",
    "version": 3
   },
   "file_extension": ".py",
   "mimetype": "text/x-python",
   "name": "python",
   "nbconvert_exporter": "python",
   "pygments_lexer": "ipython3",
   "version": "3.8.5"
  }
 },
 "nbformat": 4,
 "nbformat_minor": 4
}
