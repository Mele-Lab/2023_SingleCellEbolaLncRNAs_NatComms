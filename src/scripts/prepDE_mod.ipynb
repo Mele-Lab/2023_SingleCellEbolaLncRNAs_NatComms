{
 "cells": [
  {
   "cell_type": "code",
   "execution_count": 1,
   "metadata": {},
   "outputs": [],
   "source": [
    "import os\n",
    "input = \"/gpfs/projects/bsc83/Projects/Ebola/data/02_RNA-Seq/04_StringtieAbundances/Zyagen\"\n",
    "samples = [] # List of tuples. If sample list, (first column, path). Else, (subdirectory name, path to gtf file in subdirectory)\n"
   ]
  },
  {
   "cell_type": "code",
   "execution_count": null,
   "metadata": {},
   "outputs": [],
   "source": [
    "\n",
    "\n",
    "\n",
    "if (os.path.isfile(opts.input)):\n",
    "    # gtfList = True\n",
    "    try:\n",
    "        fin = open(opts.input, 'r')\n",
    "        for line in fin:\n",
    "            if line[0] != '#':\n",
    "                lineLst = tuple(line.strip().split())\n",
    "                if (len(lineLst) != 2):\n",
    "                    print \"Error: Text file with sample ID and path invalid (%s)\" % (line.strip())\n",
    "                    exit(1)\n",
    "                if lineLst[0] in samples:\n",
    "                    print \"Error: Sample ID duplicated (%s)\" % (lineLst[0])\n",
    "                    exit(1)\n",
    "                if not os.path.isfile(lineLst[1]):\n",
    "                    print \"Error: GTF file not found (%s)\" % (lineLst[1])\n",
    "                    exit(1)\n",
    "                samples.append(lineLst)\n",
    "    except IOError:\n",
    "        print \"Error: List of .gtf files, %s, doesn't exist\" % (opts.input)\n",
    "        exit(1)\n",
    "else:\n",
    "    # gtfList = False\n",
    "    ## Check that opts.input directory exists\n",
    "    if not os.path.isdir(opts.input):\n",
    "      parser.print_help()\n",
    "      print \" \"\n",
    "      print \"Error: sub-directory '%s' not found!\" % (opts.input)\n",
    "      sys.exit(1)"
   ]
  }
 ],
 "metadata": {
  "kernelspec": {
   "display_name": "Python 3",
   "language": "python",
   "name": "python3"
  },
  "language_info": {
   "codemirror_mode": {
    "name": "ipython",
    "version": 3
   },
   "file_extension": ".py",
   "mimetype": "text/x-python",
   "name": "python",
   "nbconvert_exporter": "python",
   "pygments_lexer": "ipython3",
   "version": "3.6.5"
  }
 },
 "nbformat": 4,
 "nbformat_minor": 2
}
